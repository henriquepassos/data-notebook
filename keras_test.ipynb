{
 "cells": [
  {
   "cell_type": "code",
   "execution_count": null,
   "metadata": {},
   "outputs": [],
   "source": [
    "from scipy.ndimage.filters import convolve\n",
    "from scipy.signal import convolve2d\n",
    "from scipy import misc\n",
    "\n",
    "import numpy as np\n",
    "import pandas as pd\n",
    "import matplotlib.pyplot as plt\n",
    "import seaborn as sns\n",
    "sns.set(style='white')\n",
    "\n",
    "import tensorflow as tf\n",
    "tf.get_logger().setLevel('ERROR')\n",
    "\n",
    "import tensorflow.keras.backend as K\n",
    "from tensorflow.keras.datasets import mnist\n",
    "from tensorflow.keras.models import Sequential\n",
    "from tensorflow.keras.layers import (Dense, Conv2D, MaxPool2D, LSTM,\n",
    "                                     AvgPool2D, Activation, Flatten,\n",
    "                                     BatchNormalization, Dropout)\n",
    "from tensorflow.keras.losses import (mean_squared_error, binary_crossentropy,\n",
    "                                     categorical_crossentropy)\n",
    "from tensorflow.keras.optimizers import SGD, Adam, Adagrad, RMSprop\n",
    "from tensorflow.keras.callbacks import EarlyStopping\n",
    "from tensorflow.keras.utils import to_categorical\n",
    "from tensorflow.keras.wrappers.scikit_learn import KerasClassifier\n",
    "\n",
    "from sklearn.metrics import (r2_score, accuracy_score,\n",
    "                             precision_score, recall_score,\n",
    "                             f1_score, confusion_matrix,\n",
    "                             classification_report)\n",
    "from sklearn.model_selection import (KFold, train_test_split,\n",
    "                                     cross_val_score)\n",
    "from sklearn.preprocessing import MinMaxScaler, StandardScaler\n",
    "from sklearn.datasets import (make_regression, make_blobs,\n",
    "                              make_moons, load_iris, load_digits)\n",
    "\n",
    "%matplotlib inline"
   ]
  },
  {
   "cell_type": "markdown",
   "metadata": {},
   "source": [
    "# Function"
   ]
  },
  {
   "cell_type": "code",
   "execution_count": null,
   "metadata": {},
   "outputs": [],
   "source": [
    "def plot_decision_boundary(model, X, y, cmap='bwr'):\n",
    "    amin, bmin = X.min(axis=0) - 0.1\n",
    "    amax, bmax = X.max(axis=0) + 0.1\n",
    "    hticks = np.linspace(amin, amax, 101)\n",
    "    vticks = np.linspace(bmin, bmax, 101)\n",
    "    \n",
    "    aa, bb = np.meshgrid(hticks, vticks)\n",
    "    ab = np.c_[aa.ravel(), bb.ravel()]\n",
    "    \n",
    "    c = model.predict(ab)\n",
    "    cc = c.reshape(aa.shape)\n",
    "    \n",
    "    plt.contourf(aa, bb, cc, cmap=cmap, alpha=0.2)\n",
    "    plt.plot(X[y==0, 0], X[y==0, 1], 'or', alpha=0.5)\n",
    "    plt.plot(X[y==1, 0], X[y==1, 1], 'ob', alpha=0.5)"
   ]
  },
  {
   "cell_type": "markdown",
   "metadata": {},
   "source": [
    "# Linear Regression"
   ]
  },
  {
   "cell_type": "code",
   "execution_count": null,
   "metadata": {},
   "outputs": [],
   "source": [
    "K.clear_session()\n",
    "model = Sequential()\n",
    "model.add(Dense(1, input_shape=(1,)))\n",
    "model.compile(loss=mean_squared_error, optimizer=Adam(lr=0.8))\n",
    "model.summary()"
   ]
  },
  {
   "cell_type": "code",
   "execution_count": null,
   "metadata": {},
   "outputs": [],
   "source": [
    "X, y = make_regression(n_samples=1000, n_features=1,\n",
    "                       noise=20, random_state=0)\n",
    "plt.scatter(X, y, color='blue')"
   ]
  },
  {
   "cell_type": "code",
   "execution_count": null,
   "metadata": {},
   "outputs": [],
   "source": [
    "model.fit(X, y, epochs=40, verbose=0)"
   ]
  },
  {
   "cell_type": "code",
   "execution_count": null,
   "metadata": {},
   "outputs": [],
   "source": [
    "yp = model.predict(X)"
   ]
  },
  {
   "cell_type": "code",
   "execution_count": null,
   "metadata": {},
   "outputs": [],
   "source": [
    "plt.scatter(X, y, color='blue')\n",
    "plt.plot(X, yp, color='red')"
   ]
  },
  {
   "cell_type": "code",
   "execution_count": null,
   "metadata": {},
   "outputs": [],
   "source": [
    "W, b = model.get_weights()\n",
    "pd.DataFrame([W[0][0], b[0], r2_score(y, yp)],\n",
    "             index=['W', 'b', 'r2_score'],\n",
    "             columns=['value'])"
   ]
  },
  {
   "cell_type": "markdown",
   "metadata": {},
   "source": [
    "# Logistic Regression"
   ]
  },
  {
   "cell_type": "code",
   "execution_count": null,
   "metadata": {},
   "outputs": [],
   "source": [
    "K.clear_session()\n",
    "model = Sequential()\n",
    "model.add(Dense(1, input_shape=(1,), activation='sigmoid'))\n",
    "model.compile(loss=binary_crossentropy, optimizer=SGD(lr=0.5), metrics=['accuracy'])\n",
    "model.summary()"
   ]
  },
  {
   "cell_type": "code",
   "execution_count": null,
   "metadata": {},
   "outputs": [],
   "source": [
    "X, y = make_blobs(n_samples=1000, n_features=1,\n",
    "                  centers=2, cluster_std=0.75, random_state=0)\n",
    "plt.scatter(X, y, color='blue')"
   ]
  },
  {
   "cell_type": "code",
   "execution_count": null,
   "metadata": {},
   "outputs": [],
   "source": [
    "model.fit(X, y, epochs=25, verbose=0)"
   ]
  },
  {
   "cell_type": "code",
   "execution_count": null,
   "metadata": {},
   "outputs": [],
   "source": [
    "yp = model.predict(X) > 0.5"
   ]
  },
  {
   "cell_type": "code",
   "execution_count": null,
   "metadata": {},
   "outputs": [],
   "source": [
    "temp = np.linspace(X.min(axis=0), X.max(axis=0))\n",
    "plt.scatter(X, y, color='blue')\n",
    "plt.plot(temp, model.predict(temp), color='red')"
   ]
  },
  {
   "cell_type": "code",
   "execution_count": null,
   "metadata": {},
   "outputs": [],
   "source": [
    "temp = np.linspace(X.min(axis=0), X.max(axis=0))\n",
    "plt.scatter(X, y, color='blue')\n",
    "plt.plot(temp, model.predict(temp) > 0.5, color='red')"
   ]
  },
  {
   "cell_type": "code",
   "execution_count": null,
   "metadata": {},
   "outputs": [],
   "source": [
    "W, b = model.get_weights()\n",
    "pd.DataFrame([W[0][0], b[0], accuracy_score(y, yp)],\n",
    "             index=['W', 'b', 'accuracy_score'],\n",
    "             columns=['value'])"
   ]
  },
  {
   "cell_type": "markdown",
   "metadata": {},
   "source": [
    "# Cross validation"
   ]
  },
  {
   "cell_type": "code",
   "execution_count": null,
   "metadata": {},
   "outputs": [],
   "source": [
    "def build_lr_model():\n",
    "    model = Sequential()\n",
    "    model.add(Dense(1, input_shape=(1,), activation='sigmoid'))\n",
    "    model.compile(loss=binary_crossentropy, optimizer=SGD(lr=0.5), metrics=['accuracy'])\n",
    "    return model"
   ]
  },
  {
   "cell_type": "code",
   "execution_count": null,
   "metadata": {},
   "outputs": [],
   "source": [
    "model = KerasClassifier(build_fn=build_lr_model, epochs=25, verbose=0)\n",
    "cv = KFold(3, shuffle=True)\n",
    "scores = cross_val_score(model, X, y, cv=cv)"
   ]
  },
  {
   "cell_type": "code",
   "execution_count": null,
   "metadata": {},
   "outputs": [],
   "source": [
    "pd.DataFrame([scores.mean(), scores.std()],\n",
    "             index=['mean', 'std'],\n",
    "             columns=['cross_val_score'])"
   ]
  },
  {
   "cell_type": "markdown",
   "metadata": {},
   "source": [
    "# Confusion Matrix"
   ]
  },
  {
   "cell_type": "code",
   "execution_count": null,
   "metadata": {},
   "outputs": [],
   "source": [
    "pd.DataFrame(confusion_matrix(y, yp),\n",
    "             index=['true:yes', 'true:no'],\n",
    "             columns=['pred:yes', 'pred:no'])"
   ]
  },
  {
   "cell_type": "code",
   "execution_count": null,
   "metadata": {},
   "outputs": [],
   "source": [
    "pd.DataFrame([precision_score(y, yp), recall_score(y, yp), f1_score(y, yp)],\n",
    "             index=['precision', 'recall', 'f1'],\n",
    "             columns=['value'])"
   ]
  },
  {
   "cell_type": "code",
   "execution_count": null,
   "metadata": {},
   "outputs": [],
   "source": [
    "report = classification_report(y, yp, output_dict=True)\n",
    "pd.DataFrame(report).transpose()"
   ]
  },
  {
   "cell_type": "markdown",
   "metadata": {},
   "source": [
    "# Feature Preprocessing"
   ]
  },
  {
   "cell_type": "code",
   "execution_count": null,
   "metadata": {},
   "outputs": [],
   "source": [
    "np.random.seed(0)\n",
    "data = {'X': np.concatenate((np.random.normal(0, 0.2, 500), np.random.normal(1, 0.2, 500))),\n",
    "        'y': np.array(['a'] * 500 + ['b'] * 500)}\n",
    "df = pd.DataFrame(data)"
   ]
  },
  {
   "cell_type": "code",
   "execution_count": null,
   "metadata": {},
   "outputs": [],
   "source": [
    "pd.get_dummies(df['y'], prefix='y').head()"
   ]
  },
  {
   "cell_type": "code",
   "execution_count": null,
   "metadata": {},
   "outputs": [],
   "source": [
    "mms = MinMaxScaler()\n",
    "ss = StandardScaler()\n",
    "df['X_mms'] = mms.fit_transform(df[['X']])\n",
    "df['X_ss'] = mms.fit_transform(df[['X']])"
   ]
  },
  {
   "cell_type": "code",
   "execution_count": null,
   "metadata": {},
   "outputs": [],
   "source": [
    "df['X'].hist()\n",
    "df['X_mms'].hist()\n",
    "df['X_ss'].hist()"
   ]
  },
  {
   "cell_type": "markdown",
   "metadata": {},
   "source": [
    "# Machine Learning"
   ]
  },
  {
   "cell_type": "code",
   "execution_count": null,
   "metadata": {},
   "outputs": [],
   "source": [
    "K.clear_session()\n",
    "model = Sequential()\n",
    "model.add(Dense(1, input_shape=(2,), activation='sigmoid'))\n",
    "model.compile(loss=binary_crossentropy, optimizer=Adam(lr=0.05), metrics=['accuracy'])\n",
    "model.summary()"
   ]
  },
  {
   "cell_type": "code",
   "execution_count": null,
   "metadata": {},
   "outputs": [],
   "source": [
    "X, y = make_moons(n_samples=1000, noise=0.1, random_state=0)\n",
    "X_train, X_test, y_train, y_test = train_test_split(X, y, test_size=0.3, random_state=0)\n",
    "plt.plot(X[y==0, 0], X[y==0, 1], 'or', alpha=0.5)\n",
    "plt.plot(X[y==1, 0], X[y==1, 1], 'ob', alpha=0.5)"
   ]
  },
  {
   "cell_type": "code",
   "execution_count": null,
   "metadata": {},
   "outputs": [],
   "source": [
    "model.fit(X_train, y_train, epochs=200, verbose=0)"
   ]
  },
  {
   "cell_type": "code",
   "execution_count": null,
   "metadata": {},
   "outputs": [],
   "source": [
    "res = model.evaluate(X_test, y_test)"
   ]
  },
  {
   "cell_type": "code",
   "execution_count": null,
   "metadata": {},
   "outputs": [],
   "source": [
    "pd.DataFrame(res,\n",
    "             index=['binary_crossentropy', 'accuracy'],\n",
    "             columns=['value'])"
   ]
  },
  {
   "cell_type": "code",
   "execution_count": null,
   "metadata": {},
   "outputs": [],
   "source": [
    "plot_decision_boundary(model, X, y)"
   ]
  },
  {
   "cell_type": "markdown",
   "metadata": {},
   "source": [
    "# Deep Learning"
   ]
  },
  {
   "cell_type": "code",
   "execution_count": null,
   "metadata": {},
   "outputs": [],
   "source": [
    "K.clear_session()\n",
    "model = Sequential()\n",
    "model.add(Dense(4, input_shape=(2,), activation='tanh'))\n",
    "model.add(Dense(2, activation='tanh'))\n",
    "model.add(Dense(1, activation='sigmoid'))\n",
    "model.compile(loss=binary_crossentropy, optimizer=Adam(lr=0.05), metrics=['accuracy'])\n",
    "model.summary()"
   ]
  },
  {
   "cell_type": "code",
   "execution_count": null,
   "metadata": {},
   "outputs": [],
   "source": [
    "model.fit(X_train, y_train, epochs=200, verbose=0)"
   ]
  },
  {
   "cell_type": "code",
   "execution_count": null,
   "metadata": {},
   "outputs": [],
   "source": [
    "res = model.evaluate(X_test, y_test)"
   ]
  },
  {
   "cell_type": "code",
   "execution_count": null,
   "metadata": {},
   "outputs": [],
   "source": [
    "pd.DataFrame(res,\n",
    "             index=['binary_crossentropy', 'accuracy'],\n",
    "             columns=['value'])"
   ]
  },
  {
   "cell_type": "code",
   "execution_count": null,
   "metadata": {},
   "outputs": [],
   "source": [
    "plot_decision_boundary(model, X, y)"
   ]
  },
  {
   "cell_type": "markdown",
   "metadata": {},
   "source": [
    "# Multi Class"
   ]
  },
  {
   "cell_type": "code",
   "execution_count": null,
   "metadata": {},
   "outputs": [],
   "source": [
    "K.clear_session()\n",
    "model = Sequential()\n",
    "model.add(Dense(3, input_shape=(4,), activation='softmax'))\n",
    "model.compile(loss=categorical_crossentropy, optimizer=Adam(lr=0.1), metrics=['accuracy'])\n",
    "model.summary()"
   ]
  },
  {
   "cell_type": "code",
   "execution_count": null,
   "metadata": {},
   "outputs": [],
   "source": [
    "data = load_iris()\n",
    "X = data['data']\n",
    "y = data['target']\n",
    "yc = pd.get_dummies(y)\n",
    "X_train, X_test, y_train, y_test = train_test_split(X, yc, test_size=0.3, random_state=0)"
   ]
  },
  {
   "cell_type": "code",
   "execution_count": null,
   "metadata": {},
   "outputs": [],
   "source": [
    "model.fit(X_train, y_train, epochs=20, verbose=0)"
   ]
  },
  {
   "cell_type": "code",
   "execution_count": null,
   "metadata": {},
   "outputs": [],
   "source": [
    "yp = model.predict(X_test)"
   ]
  },
  {
   "cell_type": "code",
   "execution_count": null,
   "metadata": {},
   "outputs": [],
   "source": [
    "ytc = np.argmax(y_test.values, axis=1)\n",
    "ypc = np.argmax(yp, axis=1)"
   ]
  },
  {
   "cell_type": "code",
   "execution_count": null,
   "metadata": {},
   "outputs": [],
   "source": [
    "report = classification_report(ytc, ypc, output_dict=True)\n",
    "pd.DataFrame(report).transpose()"
   ]
  },
  {
   "cell_type": "code",
   "execution_count": null,
   "metadata": {},
   "outputs": [],
   "source": [
    "pd.DataFrame(confusion_matrix(ytc, ypc),\n",
    "             index=['true:class1', 'true:class2', 'true:class3'],\n",
    "             columns=['pred:class1', 'pred:class2', 'pred:class3'])"
   ]
  },
  {
   "cell_type": "markdown",
   "metadata": {},
   "source": [
    "# Activation Function"
   ]
  },
  {
   "cell_type": "code",
   "execution_count": null,
   "metadata": {},
   "outputs": [],
   "source": [
    "def sigmoid(x):\n",
    "    return 1.0 / (1.0 + np.exp(-x))\n",
    "\n",
    "def step(x):\n",
    "    return x > 0\n",
    "\n",
    "def tanh(x):\n",
    "    return (np.exp(x) - np.exp(-x)) / (np.exp(x) + np.exp(-x))\n",
    "\n",
    "X = np.linspace(-10, 10)\n",
    "plt.plot(X, sigmoid(X), color='blue')\n",
    "plt.plot(X, step(X), color='red')\n",
    "plt.plot(X, tanh(X), color='green')"
   ]
  },
  {
   "cell_type": "code",
   "execution_count": null,
   "metadata": {},
   "outputs": [],
   "source": [
    "def relu(x):\n",
    "    return x * (x > 0)\n",
    "\n",
    "def softplus(x):\n",
    "    return np.log(1 + np.exp(x))\n",
    "\n",
    "X = np.linspace(-5, 5)\n",
    "plt.plot(X, relu(X), color='navy')\n",
    "plt.plot(X, softplus(X), color='purple')"
   ]
  },
  {
   "cell_type": "markdown",
   "metadata": {},
   "source": [
    "# Learning Rate"
   ]
  },
  {
   "cell_type": "code",
   "execution_count": null,
   "metadata": {},
   "outputs": [],
   "source": [
    "dflist = []\n",
    "lr = [0.01, 0.05, 0.1, 0.5]\n",
    "for i in lr:\n",
    "    K.clear_session()\n",
    "    model = Sequential()\n",
    "    model.add(Dense(3, input_shape=(4,), activation='softmax'))\n",
    "    model.compile(loss=categorical_crossentropy, optimizer=SGD(lr=i), metrics=['accuracy'])\n",
    "    hist = model.fit(X_train, y_train, batch_size=16, epochs=20, verbose=0)\n",
    "    dflist.append(pd.DataFrame(hist.history, index=hist.epoch))\n",
    "\n",
    "histdf = pd.concat(dflist, axis=1)\n",
    "idx = pd.MultiIndex.from_product([lr, dflist[0].columns], names=['learning_rate','metric'])\n",
    "histdf.columns = idx\n",
    "\n",
    "histdf.xs('accuracy', axis=1, level='metric').plot(ax=plt.subplot(211))\n",
    "histdf.xs('loss', axis=1, level='metric').plot(ax=plt.subplot(212))\n",
    "plt.tight_layout()"
   ]
  },
  {
   "cell_type": "markdown",
   "metadata": {},
   "source": [
    "# Batch Size"
   ]
  },
  {
   "cell_type": "code",
   "execution_count": null,
   "metadata": {},
   "outputs": [],
   "source": [
    "dflist = []\n",
    "bs = [16, 32, 64, 128]\n",
    "for i in bs:\n",
    "    K.clear_session()\n",
    "    model = Sequential()\n",
    "    model.add(Dense(3, input_shape=(4,), activation='softmax'))\n",
    "    model.compile(loss=categorical_crossentropy, optimizer=SGD(lr=0.01), metrics=['accuracy'])\n",
    "    hist = model.fit(X_train, y_train, batch_size=i, epochs=20, verbose=0)\n",
    "    dflist.append(pd.DataFrame(hist.history, index=hist.epoch))\n",
    "\n",
    "histdf = pd.concat(dflist, axis=1)\n",
    "idx = pd.MultiIndex.from_product([bs, dflist[0].columns], names=['batch_size','metric'])\n",
    "histdf.columns = idx\n",
    "\n",
    "histdf.xs('accuracy', axis=1, level='metric').plot(ax=plt.subplot(211))\n",
    "histdf.xs('loss', axis=1, level='metric').plot(ax=plt.subplot(212))\n",
    "plt.tight_layout()"
   ]
  },
  {
   "cell_type": "markdown",
   "metadata": {},
   "source": [
    "# Optimizers"
   ]
  },
  {
   "cell_type": "code",
   "execution_count": null,
   "metadata": {},
   "outputs": [],
   "source": [
    "dflist = []\n",
    "op = ['SGD(lr=0.01)', 'SGD(lr=0.01, momentum=0.3)',\n",
    "      'SGD(lr=0.01, momentum=0.3, nesterov=True)',\n",
    "      'Adam(lr=0.01)', 'Adagrad(lr=0.01)', 'RMSprop(lr=0.01)']\n",
    "for i in op:\n",
    "    K.clear_session()\n",
    "    model = Sequential()\n",
    "    model.add(Dense(3, input_shape=(4,), activation='softmax'))\n",
    "    model.compile(loss=categorical_crossentropy, optimizer=eval(i), metrics=['accuracy'])\n",
    "    hist = model.fit(X_train, y_train, batch_size=16, epochs=20, verbose=0)\n",
    "    dflist.append(pd.DataFrame(hist.history, index=hist.epoch))\n",
    "\n",
    "histdf = pd.concat(dflist, axis=1)\n",
    "idx = pd.MultiIndex.from_product([list(range(len(op))), dflist[0].columns], names=['optimizer','metric'])\n",
    "histdf.columns = idx\n",
    "\n",
    "histdf.xs('accuracy', axis=1, level='metric').plot(ax=plt.subplot(211))\n",
    "histdf.xs('loss', axis=1, level='metric').plot(ax=plt.subplot(212))\n",
    "plt.tight_layout()"
   ]
  },
  {
   "cell_type": "markdown",
   "metadata": {},
   "source": [
    "# Initialization"
   ]
  },
  {
   "cell_type": "code",
   "execution_count": null,
   "metadata": {},
   "outputs": [],
   "source": [
    "dflist = []\n",
    "ini = ['zeros', 'uniform', 'normal', 'he_normal', 'lecun_uniform']\n",
    "for i in ini:\n",
    "    K.clear_session()\n",
    "    model = Sequential()\n",
    "    model.add(Dense(3, input_shape=(4,), kernel_initializer=i, activation='softmax'))\n",
    "    model.compile(loss=categorical_crossentropy, optimizer=RMSprop(), metrics=['accuracy'])\n",
    "    hist = model.fit(X_train, y_train, batch_size=16, epochs=20, verbose=0)\n",
    "    dflist.append(pd.DataFrame(hist.history, index=hist.epoch))\n",
    "\n",
    "histdf = pd.concat(dflist, axis=1)\n",
    "idx = pd.MultiIndex.from_product([ini, dflist[0].columns], names=['optimizer','metric'])\n",
    "histdf.columns = idx\n",
    "\n",
    "histdf.xs('accuracy', axis=1, level='metric').plot(ax=plt.subplot(211))\n",
    "histdf.xs('loss', axis=1, level='metric').plot(ax=plt.subplot(212))\n",
    "plt.tight_layout()"
   ]
  },
  {
   "cell_type": "markdown",
   "metadata": {},
   "source": [
    "# Visualization"
   ]
  },
  {
   "cell_type": "code",
   "execution_count": null,
   "metadata": {},
   "outputs": [],
   "source": [
    "K.clear_session()\n",
    "model = Sequential()\n",
    "model.add(Dense(3, input_shape=(4,), activation='softmax'))\n",
    "model.compile(loss=categorical_crossentropy, optimizer=Adam(lr=0.1), metrics=['accuracy'])\n",
    "model.summary()"
   ]
  },
  {
   "cell_type": "code",
   "execution_count": null,
   "metadata": {},
   "outputs": [],
   "source": [
    "model.fit(X_train, y_train, epochs=20, verbose=0)"
   ]
  },
  {
   "cell_type": "code",
   "execution_count": null,
   "metadata": {},
   "outputs": [],
   "source": [
    "ff = K.function([model.layers[0].input], [model.layers[0].output])\n",
    "f = ff([X_test])[0]\n",
    "plt.scatter(f[:, 0], f[:, 1], c=np.argmax(y_test.values, axis=1))"
   ]
  },
  {
   "cell_type": "markdown",
   "metadata": {},
   "source": [
    "# Layer Visualization"
   ]
  },
  {
   "cell_type": "code",
   "execution_count": null,
   "metadata": {},
   "outputs": [],
   "source": [
    "K.clear_session()\n",
    "model = Sequential()\n",
    "model.add(Dense(3, input_shape=(2,), activation='softmax'))\n",
    "model.compile(loss=categorical_crossentropy, optimizer=Adam(lr=0.1), metrics=['accuracy'])\n",
    "model.summary()"
   ]
  },
  {
   "cell_type": "code",
   "execution_count": null,
   "metadata": {},
   "outputs": [],
   "source": [
    "X, y = make_blobs(n_samples=1000, n_features=2,\n",
    "                  centers=3, cluster_std=0.5, random_state=0)\n",
    "plt.scatter(X[:, 0], X[:, 1], c=y, cmap='tab20b')"
   ]
  },
  {
   "cell_type": "code",
   "execution_count": null,
   "metadata": {},
   "outputs": [],
   "source": [
    "plt.figure(figsize=(15,10))\n",
    "for i in range(1, 26):\n",
    "    model.fit(X, pd.get_dummies(y), epochs=1, verbose=0)\n",
    "    ff = K.function([model.layers[0].input], [model.layers[0].output])\n",
    "    f = ff([X])[0]\n",
    "    plt.subplot(5, 5, i)\n",
    "    plt.scatter(f[:, 0], f[:, 1], c=y, cmap='tab20b')\n",
    "plt.tight_layout()"
   ]
  },
  {
   "cell_type": "markdown",
   "metadata": {},
   "source": [
    "# MNIST"
   ]
  },
  {
   "cell_type": "code",
   "execution_count": null,
   "metadata": {},
   "outputs": [],
   "source": [
    "K.clear_session()\n",
    "model = Sequential()\n",
    "model.add(Dense(512, input_dim=28*28, activation='relu'))\n",
    "model.add(Dense(256, activation='relu'))\n",
    "model.add(Dense(128, activation='relu'))\n",
    "model.add(Dense(32, activation='relu'))\n",
    "model.add(Dense(10, activation='softmax'))\n",
    "model.compile(loss=categorical_crossentropy, optimizer=RMSprop(), metrics=['accuracy'])\n",
    "model.summary()"
   ]
  },
  {
   "cell_type": "code",
   "execution_count": null,
   "metadata": {},
   "outputs": [],
   "source": [
    "(X_train, y_train), (X_test, y_test) = mnist.load_data()\n",
    "plt.imshow(X_train[0], cmap='gray')"
   ]
  },
  {
   "cell_type": "code",
   "execution_count": null,
   "metadata": {},
   "outputs": [],
   "source": [
    "X_train = X_train.reshape(-1, 28*28) / 255.0\n",
    "X_test = X_test.reshape(-1, 28*28) / 255.0\n",
    "y_train = to_categorical(y_train)\n",
    "y_test = to_categorical(y_test)"
   ]
  },
  {
   "cell_type": "code",
   "execution_count": null,
   "metadata": {},
   "outputs": [],
   "source": [
    "hist = model.fit(X_train, y_train, batch_size=128, epochs=10, validation_split=0.3, verbose=0)\n",
    "plt.plot(hist.history['accuracy'])\n",
    "plt.plot(hist.history['val_accuracy'])"
   ]
  },
  {
   "cell_type": "code",
   "execution_count": null,
   "metadata": {},
   "outputs": [],
   "source": [
    "res = model.evaluate(X_test, y_test)"
   ]
  },
  {
   "cell_type": "code",
   "execution_count": null,
   "metadata": {},
   "outputs": [],
   "source": [
    "pd.DataFrame(res,\n",
    "             index=['categorical_crossentropy', 'accuracy'],\n",
    "             columns=['value'])"
   ]
  },
  {
   "cell_type": "markdown",
   "metadata": {},
   "source": [
    "# Convolution"
   ]
  },
  {
   "cell_type": "code",
   "execution_count": null,
   "metadata": {},
   "outputs": [],
   "source": [
    "a = np.array([0, 0, 0, 0, 0, 1, 1, 1, 1, 1, 0, 0, 0, 0, 0])\n",
    "b = np.array([-1, 1])\n",
    "c = np.convolve(a, b)\n",
    "plt.subplot(211)\n",
    "plt.plot(a, 'o-')\n",
    "plt.subplot(212)\n",
    "plt.plot(c, 'o-')"
   ]
  },
  {
   "cell_type": "code",
   "execution_count": null,
   "metadata": {},
   "outputs": [],
   "source": [
    "img = misc.ascent()\n",
    "plt.imshow(img, cmap='gray')"
   ]
  },
  {
   "cell_type": "code",
   "execution_count": null,
   "metadata": {},
   "outputs": [],
   "source": [
    "h_kernel = np.array([[ 1,  2,  1],\n",
    "                  [ 0,  0,  0],\n",
    "                  [-1, -2, -1]])\n",
    "plt.imshow(h_kernel, cmap='gray')"
   ]
  },
  {
   "cell_type": "code",
   "execution_count": null,
   "metadata": {},
   "outputs": [],
   "source": [
    "res = convolve2d(img, h_kernel)\n",
    "plt.imshow(res, cmap='gray')"
   ]
  },
  {
   "cell_type": "markdown",
   "metadata": {},
   "source": [
    "# Conv Layer"
   ]
  },
  {
   "cell_type": "code",
   "execution_count": null,
   "metadata": {},
   "outputs": [],
   "source": [
    "K.clear_session()\n",
    "model = Sequential()\n",
    "model.add(Conv2D(1, (3, 3), strides=(2, 1), input_shape=(512, 512, 1)))\n",
    "model.compile(loss=mean_squared_error, optimizer=Adam())\n",
    "model.summary()"
   ]
  },
  {
   "cell_type": "code",
   "execution_count": null,
   "metadata": {},
   "outputs": [],
   "source": [
    "img_tensor = img.reshape((1, 512, 512, 1))\n",
    "img_tensor_p = model.predict(img_tensor)\n",
    "plt.imshow(img_tensor_p[0, :, :, 0], cmap='gray')"
   ]
  },
  {
   "cell_type": "code",
   "execution_count": null,
   "metadata": {},
   "outputs": [],
   "source": [
    "weights = model.get_weights()\n",
    "plt.imshow(weights[0][:, :, 0, 0], cmap='gray')"
   ]
  },
  {
   "cell_type": "code",
   "execution_count": null,
   "metadata": {},
   "outputs": [],
   "source": [
    "model.set_weights([np.ones(w.shape) for w in weights])\n",
    "img_tensor_p = model.predict(img_tensor)\n",
    "plt.imshow(img_tensor_p[0, :, :, 0], cmap='gray')"
   ]
  },
  {
   "cell_type": "code",
   "execution_count": null,
   "metadata": {},
   "outputs": [],
   "source": [
    "K.clear_session()\n",
    "model = Sequential()\n",
    "model.add(Conv2D(1, (3, 3), padding='same', input_shape=(512, 512, 1)))\n",
    "model.compile(loss=mean_squared_error, optimizer=Adam())\n",
    "model.summary()"
   ]
  },
  {
   "cell_type": "code",
   "execution_count": null,
   "metadata": {},
   "outputs": [],
   "source": [
    "img_tensor = img.reshape((1, 512, 512, 1))\n",
    "img_tensor_p = model.predict(img_tensor)\n",
    "plt.imshow(img_tensor_p[0, :, :, 0], cmap='gray')"
   ]
  },
  {
   "cell_type": "markdown",
   "metadata": {},
   "source": [
    "# Pool Layer"
   ]
  },
  {
   "cell_type": "code",
   "execution_count": null,
   "metadata": {},
   "outputs": [],
   "source": [
    "K.clear_session()\n",
    "model = Sequential()\n",
    "model.add(MaxPool2D(1, (5, 5), input_shape=(512, 512, 1)))\n",
    "model.compile(loss=mean_squared_error, optimizer=Adam())\n",
    "model.summary()"
   ]
  },
  {
   "cell_type": "code",
   "execution_count": null,
   "metadata": {},
   "outputs": [],
   "source": [
    "img_tensor = img.reshape((1, 512, 512, 1))\n",
    "img_tensor_p = model.predict(img_tensor)\n",
    "plt.imshow(img_tensor_p[0, :, :, 0], cmap='gray')"
   ]
  },
  {
   "cell_type": "code",
   "execution_count": null,
   "metadata": {},
   "outputs": [],
   "source": [
    "K.clear_session()\n",
    "model = Sequential()\n",
    "model.add(AvgPool2D(1, (5, 5), input_shape=(512, 512, 1)))\n",
    "model.compile(loss=mean_squared_error, optimizer=Adam())\n",
    "model.summary()"
   ]
  },
  {
   "cell_type": "code",
   "execution_count": null,
   "metadata": {},
   "outputs": [],
   "source": [
    "img_tensor = img.reshape((1, 512, 512, 1))\n",
    "img_tensor_p = model.predict(img_tensor)\n",
    "plt.imshow(img_tensor_p[0, :, :, 0], cmap='gray')"
   ]
  },
  {
   "cell_type": "markdown",
   "metadata": {},
   "source": [
    "# Convolutional Neural Network"
   ]
  },
  {
   "cell_type": "code",
   "execution_count": null,
   "metadata": {},
   "outputs": [],
   "source": [
    "K.clear_session()\n",
    "model = Sequential()\n",
    "model.add(Conv2D(32, (3, 3), input_shape=(28, 28, 1)))\n",
    "model.add(MaxPool2D(pool_size=(2, 2)))\n",
    "model.add(Activation('relu'))\n",
    "model.add(Flatten())\n",
    "model.add(Dense(128, activation='relu'))\n",
    "model.add(Dense(10, activation='softmax'))\n",
    "model.compile(loss=categorical_crossentropy, optimizer=RMSprop(), metrics=['accuracy'])\n",
    "model.summary()"
   ]
  },
  {
   "cell_type": "code",
   "execution_count": null,
   "metadata": {},
   "outputs": [],
   "source": [
    "(X_train, y_train), (X_test, y_test) = mnist.load_data()\n",
    "plt.imshow(X_train[0], cmap='gray')"
   ]
  },
  {
   "cell_type": "code",
   "execution_count": null,
   "metadata": {},
   "outputs": [],
   "source": [
    "X_train = X_train.reshape(-1, 28, 28, 1) / 255.0\n",
    "X_test = X_test.reshape(-1, 28, 28, 1) / 255.0\n",
    "y_train = to_categorical(y_train)\n",
    "y_test = to_categorical(y_test)"
   ]
  },
  {
   "cell_type": "code",
   "execution_count": null,
   "metadata": {},
   "outputs": [],
   "source": [
    "hist = model.fit(X_train, y_train, batch_size=128, epochs=10, validation_split=0.3, verbose=0)\n",
    "plt.plot(hist.history['accuracy'])\n",
    "plt.plot(hist.history['val_accuracy'])"
   ]
  },
  {
   "cell_type": "code",
   "execution_count": null,
   "metadata": {},
   "outputs": [],
   "source": [
    "res = model.evaluate(X_test, y_test)"
   ]
  },
  {
   "cell_type": "code",
   "execution_count": null,
   "metadata": {},
   "outputs": [],
   "source": [
    "pd.DataFrame(res,\n",
    "             index=['categorical_crossentropy', 'accuracy'],\n",
    "             columns=['value'])"
   ]
  },
  {
   "cell_type": "markdown",
   "metadata": {},
   "source": [
    "# Forecast"
   ]
  },
  {
   "cell_type": "code",
   "execution_count": null,
   "metadata": {},
   "outputs": [],
   "source": [
    "df = pd.read_csv('https://raw.githubusercontent.com/jbrownlee/Datasets/master/airline-passengers.csv', header=0, index_col=0, names=['value'])\n",
    "plt.plot(df, color='blue')"
   ]
  },
  {
   "cell_type": "code",
   "execution_count": null,
   "metadata": {},
   "outputs": [],
   "source": [
    "cut = round(df.shape[0] * 0.7)\n",
    "X_train = df.iloc[:cut].copy()\n",
    "X_test = df.iloc[cut:].copy()\n",
    "plt.plot(X_train, color='blue')\n",
    "plt.plot(X_test, color='red')"
   ]
  },
  {
   "cell_type": "code",
   "execution_count": null,
   "metadata": {},
   "outputs": [],
   "source": [
    "mms = MinMaxScaler()\n",
    "X_train['value'] = mms.fit_transform(X_train)\n",
    "X_test['value'] = mms.transform(X_test)\n",
    "plt.plot(X_train, color='blue')\n",
    "plt.plot(X_test, color='red')"
   ]
  },
  {
   "cell_type": "code",
   "execution_count": null,
   "metadata": {},
   "outputs": [],
   "source": [
    "def ts_shift(df, lag=20):\n",
    "    df = df.copy()\n",
    "    for i in range(1, lag + 1):\n",
    "        df['lag{:02d}'.format(i)] = df['value'].shift(i)\n",
    "    df.dropna(axis=0, inplace=True)\n",
    "    return df\n",
    "\n",
    "X_train_s = ts_shift(X_train)\n",
    "X_test_s = ts_shift(X_test)\n",
    "\n",
    "X_train = X_train_s.drop('value', axis=1).values\n",
    "y_train = X_train_s[['value']].values\n",
    "\n",
    "X_test = X_test_s.drop('value', axis=1).values\n",
    "y_test = X_test_s[['value']].values"
   ]
  },
  {
   "cell_type": "code",
   "execution_count": null,
   "metadata": {},
   "outputs": [],
   "source": [
    "K.clear_session()\n",
    "model = Sequential()\n",
    "model.add(Dense(20, input_dim=20, activation='relu'))\n",
    "model.add(Dense(1))\n",
    "model.compile(loss=mean_squared_error, optimizer=Adam(), metrics=['accuracy'])\n",
    "model.summary()"
   ]
  },
  {
   "cell_type": "code",
   "execution_count": null,
   "metadata": {},
   "outputs": [],
   "source": [
    "early_stop = EarlyStopping(monitor='loss', patience=1, verbose=1)\n",
    "hist = model.fit(X_train, y_train, batch_size=2, epochs=200, validation_split=0.3, verbose=0, callbacks=[early_stop])\n",
    "plt.plot(hist.history['accuracy'])\n",
    "plt.plot(hist.history['val_accuracy'])"
   ]
  },
  {
   "cell_type": "code",
   "execution_count": null,
   "metadata": {},
   "outputs": [],
   "source": [
    "yp = model.predict(X_test)"
   ]
  },
  {
   "cell_type": "code",
   "execution_count": null,
   "metadata": {},
   "outputs": [],
   "source": [
    "plt.plot(y_test, color='blue')\n",
    "plt.plot(yp, color='red')"
   ]
  },
  {
   "cell_type": "code",
   "execution_count": null,
   "metadata": {},
   "outputs": [],
   "source": [
    "res = model.evaluate(X_test, y_test)"
   ]
  },
  {
   "cell_type": "code",
   "execution_count": null,
   "metadata": {},
   "outputs": [],
   "source": [
    "pd.DataFrame(res + [r2_score(y_test, yp)],\n",
    "             index=['mean_squared_error', 'accuracy', 'r2_score'],\n",
    "             columns=['value'])"
   ]
  },
  {
   "cell_type": "markdown",
   "metadata": {},
   "source": [
    "# LSTM"
   ]
  },
  {
   "cell_type": "code",
   "execution_count": null,
   "metadata": {},
   "outputs": [],
   "source": [
    "K.clear_session()\n",
    "model = Sequential()\n",
    "model.add(LSTM(10, input_shape=(1, 20)))\n",
    "model.add(Dense(1))\n",
    "model.compile(loss=mean_squared_error, optimizer=Adam(), metrics=['accuracy'])\n",
    "model.summary()"
   ]
  },
  {
   "cell_type": "code",
   "execution_count": null,
   "metadata": {},
   "outputs": [],
   "source": [
    "X_train_aux = X_train[:, None]\n",
    "X_test_aux = X_test[:, None]"
   ]
  },
  {
   "cell_type": "code",
   "execution_count": null,
   "metadata": {},
   "outputs": [],
   "source": [
    "early_stop = EarlyStopping(monitor='loss', patience=1, verbose=0)\n",
    "hist = model.fit(X_train_aux, y_train, batch_size=2, epochs=200, validation_split=0.3, verbose=0, callbacks=[early_stop])\n",
    "plt.plot(hist.history['accuracy'])\n",
    "plt.plot(hist.history['val_accuracy'])"
   ]
  },
  {
   "cell_type": "code",
   "execution_count": null,
   "metadata": {},
   "outputs": [],
   "source": [
    "yp = model.predict(X_test_aux)"
   ]
  },
  {
   "cell_type": "code",
   "execution_count": null,
   "metadata": {},
   "outputs": [],
   "source": [
    "plt.plot(y_test, color='blue')\n",
    "plt.plot(yp, color='red')"
   ]
  },
  {
   "cell_type": "code",
   "execution_count": null,
   "metadata": {},
   "outputs": [],
   "source": [
    "res = model.evaluate(X_test_aux, y_test)"
   ]
  },
  {
   "cell_type": "code",
   "execution_count": null,
   "metadata": {},
   "outputs": [],
   "source": [
    "pd.DataFrame(res + [r2_score(y_test, yp)],\n",
    "             index=['mean_squared_error', 'accuracy', 'r2_score'],\n",
    "             columns=['value'])"
   ]
  },
  {
   "cell_type": "markdown",
   "metadata": {},
   "source": [
    "# Learning Curves"
   ]
  },
  {
   "cell_type": "code",
   "execution_count": null,
   "metadata": {},
   "outputs": [],
   "source": [
    "K.clear_session()\n",
    "model = Sequential()\n",
    "model.add(Dense(16, input_dim=64, activation='relu'))\n",
    "model.add(Dense(10, activation='softmax'))\n",
    "model.compile(loss=categorical_crossentropy, optimizer=Adam(), metrics=['accuracy'])\n",
    "model.summary()"
   ]
  },
  {
   "cell_type": "code",
   "execution_count": null,
   "metadata": {},
   "outputs": [],
   "source": [
    "data = load_digits()\n",
    "X, y = data.data, data.target\n",
    "yc = to_categorical(y)\n",
    "X_train, X_test, y_train, y_test = train_test_split(X, yc, test_size=0.3, random_state=0)\n",
    "plt.imshow(X.reshape(-1, 8, 8)[0], cmap='gray')"
   ]
  },
  {
   "cell_type": "code",
   "execution_count": null,
   "metadata": {},
   "outputs": [],
   "source": [
    "initial_weights = model.get_weights()"
   ]
  },
  {
   "cell_type": "code",
   "execution_count": null,
   "metadata": {},
   "outputs": [],
   "source": [
    "train_size = (len(X_train) * np.linspace(0.1, 0.999, 4)).astype(int)"
   ]
  },
  {
   "cell_type": "code",
   "execution_count": null,
   "metadata": {},
   "outputs": [],
   "source": [
    "train_score = []\n",
    "test_score = []\n",
    "\n",
    "for ts in train_size:\n",
    "    X_train_frac, _, y_train_frac, _ = train_test_split(X_train, y_train, train_size=ts)\n",
    "    \n",
    "    model.set_weights(initial_weights)\n",
    "    \n",
    "    early_stop = EarlyStopping(monitor='loss', patience=1, verbose=0)\n",
    "    hist = model.fit(X_train_frac, y_train_frac, epochs=300, validation_split=0.3, verbose=0, callbacks=[early_stop])\n",
    "    \n",
    "    aux = model.evaluate(X_train_frac, y_train_frac, verbose=0)\n",
    "    train_score.append(aux[-1])\n",
    "    \n",
    "    aux = model.evaluate(X_test, y_test, verbose=0)\n",
    "    test_score.append(aux[-1])\n",
    "\n",
    "plt.plot(train_size, train_score, color='blue')\n",
    "plt.plot(train_size, test_score, color='red')"
   ]
  },
  {
   "cell_type": "markdown",
   "metadata": {},
   "source": [
    "# Batch Normalization"
   ]
  },
  {
   "cell_type": "code",
   "execution_count": null,
   "metadata": {},
   "outputs": [],
   "source": [
    "def repeat_train(X_train, y_train, X_test, y_test, repeat=3, bn=False):\n",
    "    ll = []\n",
    "    \n",
    "    for r in range(repeat):\n",
    "        K.clear_session()\n",
    "        model = Sequential()\n",
    "\n",
    "        model.add(Dense(512, input_shape=X_train.shape[1:], kernel_initializer='normal', activation='sigmoid'))\n",
    "\n",
    "        if bn:\n",
    "            model.add(BatchNormalization())\n",
    "\n",
    "        model.add(Dense(512, kernel_initializer='normal', activation='sigmoid'))\n",
    "\n",
    "        if bn:\n",
    "            model.add(BatchNormalization())\n",
    "\n",
    "        model.add(Dense(512, kernel_initializer='normal', activation='sigmoid'))\n",
    "\n",
    "        if bn:\n",
    "            model.add(BatchNormalization())\n",
    "\n",
    "        model.add(Dense(10, activation='softmax'))\n",
    "\n",
    "        model.compile(loss=categorical_crossentropy, optimizer=Adam(), metrics=['accuracy'])\n",
    "        hist = model.fit(X_train, y_train, validation_data=(X_test, y_test), epochs=5, verbose=0)\n",
    "\n",
    "        ll.append([hist.history['accuracy'], hist.history['val_accuracy']])\n",
    "    \n",
    "    ll = np.array(ll)\n",
    "    mean_acc = ll.mean(axis=0)\n",
    "    std_acc = ll.std(axis=0)\n",
    "    \n",
    "    return mean_acc[0], std_acc[0], mean_acc[1], std_acc[1]\n",
    "\n",
    "mean_acc, std_acc, mean_acc_val, std_acc_val = repeat_train(X_train, y_train, X_test, y_test, bn=False)\n",
    "mean_acc_bn, std_acc_bn, mean_acc_val_bn, std_acc_val_bn = repeat_train(X_train, y_train, X_test, y_test, bn=True)"
   ]
  },
  {
   "cell_type": "code",
   "execution_count": null,
   "metadata": {},
   "outputs": [],
   "source": [
    "def plot_mean_std(m, s):\n",
    "    plt.plot(m)\n",
    "    plt.fill_between(range(len(m)), m-s, m+s, alpha=0.1)\n",
    "plot_mean_std(mean_acc, std_acc)\n",
    "plot_mean_std(mean_acc_val, std_acc_val)\n",
    "plot_mean_std(mean_acc_bn, std_acc_bn)\n",
    "plot_mean_std(mean_acc_val_bn, std_acc_val_bn)\n",
    "plt.legend(['train', 'test', 'train_bn', 'test_bn'])"
   ]
  },
  {
   "cell_type": "markdown",
   "metadata": {},
   "source": [
    "# Regularizer and Dropout"
   ]
  },
  {
   "cell_type": "code",
   "execution_count": null,
   "metadata": {},
   "outputs": [],
   "source": [
    "model = Sequential()\n",
    "model.add(Dropout(0.2, input_shape=X_train.shape[1:]))\n",
    "model.add(Dense(512, kernel_initializer='normal', kernel_regularizer='l2', activation='sigmoid'))\n",
    "model.add(Dropout(0.4))\n",
    "model.add(Dense(10, activation='softmax'))\n",
    "model.compile(loss=categorical_crossentropy, optimizer=SGD(), metrics=['accuracy'])\n",
    "model.summary()"
   ]
  },
  {
   "cell_type": "code",
   "execution_count": null,
   "metadata": {},
   "outputs": [],
   "source": [
    "hist = model.fit(X_train, y_train, batch_size=128, epochs=10, validation_split=0.3, verbose=0)\n",
    "plt.plot(hist.history['accuracy'])\n",
    "plt.plot(hist.history['val_accuracy'])"
   ]
  },
  {
   "cell_type": "code",
   "execution_count": null,
   "metadata": {},
   "outputs": [],
   "source": [
    "res = model.evaluate(X_test, y_test)"
   ]
  },
  {
   "cell_type": "code",
   "execution_count": null,
   "metadata": {},
   "outputs": [],
   "source": [
    "pd.DataFrame(res,\n",
    "             index=['categorical_crossentropy', 'accuracy'],\n",
    "             columns=['value'])"
   ]
  }
 ],
 "metadata": {
  "kernelspec": {
   "display_name": "Python 3",
   "language": "python",
   "name": "python3"
  },
  "language_info": {
   "codemirror_mode": {
    "name": "ipython",
    "version": 3
   },
   "file_extension": ".py",
   "mimetype": "text/x-python",
   "name": "python",
   "nbconvert_exporter": "python",
   "pygments_lexer": "ipython3",
   "version": "3.8.3"
  }
 },
 "nbformat": 4,
 "nbformat_minor": 2
}
